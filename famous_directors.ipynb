{
 "cells": [
  {
   "cell_type": "code",
   "execution_count": null,
   "id": "b0abea67-8a9b-4955-9e71-76bd990123b2",
   "metadata": {},
   "outputs": [],
   "source": [
    "import csv\n",
    "from selenium import webdriver\n",
    "from selenium.webdriver.chrome.service import Service\n",
    "from selenium.webdriver.chrome.options import Options\n",
    "from webdriver_manager.chrome import ChromeDriverManager\n",
    "from bs4 import BeautifulSoup\n",
    "\n",
    "def scrape_names_with_selenium(url='https://www.imdb.com/list/ls008344500/'):\n",
    "    # Setup Chrome options\n",
    "    options = Options()\n",
    "    options.add_argument(\"--headless\")\n",
    "    options.add_argument(\"user-agent=Mozilla/5.0 (Windows NT 10.0; Win64; x64) AppleWebKit/537.36 (KHTML, like Gecko) Chrome/120.0.0.0 Safari/537.36\")\n",
    "\n",
    "    # Initialize the driver\n",
    "    driver = webdriver.Chrome(service=Service(ChromeDriverManager().install()), options=options)\n",
    "    driver.get(url)\n",
    "\n",
    "    soup = BeautifulSoup(driver.page_source, \"lxml\")\n",
    "    driver.quit()\n",
    "\n",
    "    # Find all list items\n",
    "    popular_directors = soup.find_all('li', class_='ipc-metadata-list-summary-item')\n",
    "\n",
    "    names = []\n",
    "    for item in popular_directors:\n",
    "        name_tag = item.find('h3', class_='ipc-title__text')\n",
    "        if name_tag:\n",
    "            # Split the text to remove the number and keep only the name\n",
    "            name = ' '.join(name_tag.text.strip().split()[1:])\n",
    "            names.append(name)\n",
    "\n",
    "    return names\n",
    "\n",
    "def save_to_csv(names, filename='popular_directors.csv'):\n",
    "    with open(filename, mode='w', newline='', encoding='utf-8') as file:\n",
    "        writer = csv.writer(file)\n",
    "        writer.writerow(['Popular Directors'])\n",
    "        for name in names:\n",
    "            writer.writerow([name])\n",
    "\n",
    "names = scrape_names_with_selenium()\n",
    "save_to_csv(names)"
   ]
  }
 ],
 "metadata": {
  "kernelspec": {
   "display_name": "Python 3.10 (venv)",
   "language": "python",
   "name": "python3.10_venv"
  },
  "language_info": {
   "codemirror_mode": {
    "name": "ipython",
    "version": 3
   },
   "file_extension": ".py",
   "mimetype": "text/x-python",
   "name": "python",
   "nbconvert_exporter": "python",
   "pygments_lexer": "ipython3",
   "version": "3.10.0"
  }
 },
 "nbformat": 4,
 "nbformat_minor": 5
}
